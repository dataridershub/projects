{
  "cells": [
    {
      "cell_type": "markdown",
      "metadata": {
        "id": "tWjKnweTlb6S"
      },
      "source": [
        "# NextMOVE:  Chess Training Assistant\n",
        "\n",
        "## Background\n",
        "\n",
        "Leading Chess Grand Masters prepare for their Chess matches by working with a team of other top Chess Grand Masters. A team collects and studies all the past games of each opponent from the Chess database. Match preparation requires advanced opponent-specific personalized training plans.\n",
        "\n",
        "\n",
        "## Objective\n",
        "\n",
        "NextMOVE is an effort to build a personalized Chess Training Assistant. For opponent-specific preparation, their past games can be uploaded to this Assistant. Next moves for each board position can be predicted based on each player’s style and tendencies.\n",
        "\n",
        "\n",
        "## Pre-requisites\n",
        "\n",
        "- Python:  Python 3.x\n",
        "- Open AI:  Create an account in Open AI.  Generate an Open AI API key\n",
        "- MongoDB Atlas Vector search:  Create an account in MongoDB Atlas.  Create a cluster and a database instance.  Get the connection string to connect to the MongoDB database.  Whitelist the IP address from where the mongodb client would connect.\n",
        "\n",
        "\n",
        "## Tech stack\n",
        "- Python\n",
        "- OpenAI\n",
        "- MongoDB Atlas Search\n",
        "- LangChain\n",
        "- LLM\n",
        "- Streamlit"
      ]
    },
    {
      "cell_type": "markdown",
      "metadata": {
        "id": "MufwLja7mdTF"
      },
      "source": [
        "### How to run\n",
        "\n",
        "This notebook can be run on Google Colab and stand alone python development environments.  Click here to run on colab.\n",
        "\n",
        "[![Open In Colab](https://colab.research.google.com/assets/colab-badge.svg)](https://colab.research.google.com/github/datariders/NextMOVE/blob/main/src/nextMOVE.ipynb)\n",
        "\n",
        "\n",
        "### References\n",
        "\n",
        "- https://docs.streamlit.io/get-started/tutorials/create-an-app"
      ]
    },
    {
      "cell_type": "code",
      "execution_count": 1,
      "metadata": {
        "id": "gZyntsj0jMtb",
        "colab": {
          "base_uri": "https://localhost:8080/"
        },
        "outputId": "a77b4dab-330e-4954-a749-7e71f9cd14d1"
      },
      "outputs": [
        {
          "output_type": "stream",
          "name": "stdout",
          "text": [
            "Collecting pymongo\n",
            "  Downloading pymongo-4.8.0-cp310-cp310-manylinux_2_17_x86_64.manylinux2014_x86_64.whl (1.2 MB)\n",
            "\u001b[2K     \u001b[90m━━━━━━━━━━━━━━━━━━━━━━━━━━━━━━━━━━━━━━━━\u001b[0m \u001b[32m1.2/1.2 MB\u001b[0m \u001b[31m7.0 MB/s\u001b[0m eta \u001b[36m0:00:00\u001b[0m\n",
            "\u001b[?25hCollecting pymupdf\n",
            "  Downloading PyMuPDF-1.24.7-cp310-none-manylinux2014_x86_64.whl (3.5 MB)\n",
            "\u001b[2K     \u001b[90m━━━━━━━━━━━━━━━━━━━━━━━━━━━━━━━━━━━━━━━━\u001b[0m \u001b[32m3.5/3.5 MB\u001b[0m \u001b[31m18.5 MB/s\u001b[0m eta \u001b[36m0:00:00\u001b[0m\n",
            "\u001b[?25hCollecting sentence-transformers\n",
            "  Downloading sentence_transformers-3.0.1-py3-none-any.whl (227 kB)\n",
            "\u001b[2K     \u001b[90m━━━━━━━━━━━━━━━━━━━━━━━━━━━━━━━━━━━━━━━━\u001b[0m \u001b[32m227.1/227.1 kB\u001b[0m \u001b[31m19.0 MB/s\u001b[0m eta \u001b[36m0:00:00\u001b[0m\n",
            "\u001b[?25hCollecting openai==0.28\n",
            "  Downloading openai-0.28.0-py3-none-any.whl (76 kB)\n",
            "\u001b[2K     \u001b[90m━━━━━━━━━━━━━━━━━━━━━━━━━━━━━━━━━━━━━━━━\u001b[0m \u001b[32m76.5/76.5 kB\u001b[0m \u001b[31m5.9 MB/s\u001b[0m eta \u001b[36m0:00:00\u001b[0m\n",
            "\u001b[?25hCollecting streamlit\n",
            "  Downloading streamlit-1.36.0-py2.py3-none-any.whl (8.6 MB)\n",
            "\u001b[2K     \u001b[90m━━━━━━━━━━━━━━━━━━━━━━━━━━━━━━━━━━━━━━━━\u001b[0m \u001b[32m8.6/8.6 MB\u001b[0m \u001b[31m39.6 MB/s\u001b[0m eta \u001b[36m0:00:00\u001b[0m\n",
            "\u001b[?25hRequirement already satisfied: requests>=2.20 in /usr/local/lib/python3.10/dist-packages (from openai==0.28) (2.31.0)\n",
            "Requirement already satisfied: tqdm in /usr/local/lib/python3.10/dist-packages (from openai==0.28) (4.66.4)\n",
            "Requirement already satisfied: aiohttp in /usr/local/lib/python3.10/dist-packages (from openai==0.28) (3.9.5)\n",
            "Collecting dnspython<3.0.0,>=1.16.0 (from pymongo)\n",
            "  Downloading dnspython-2.6.1-py3-none-any.whl (307 kB)\n",
            "\u001b[2K     \u001b[90m━━━━━━━━━━━━━━━━━━━━━━━━━━━━━━━━━━━━━━━━\u001b[0m \u001b[32m307.7/307.7 kB\u001b[0m \u001b[31m33.4 MB/s\u001b[0m eta \u001b[36m0:00:00\u001b[0m\n",
            "\u001b[?25hCollecting PyMuPDFb==1.24.6 (from pymupdf)\n",
            "  Downloading PyMuPDFb-1.24.6-py3-none-manylinux2014_x86_64.manylinux_2_17_x86_64.whl (15.7 MB)\n",
            "\u001b[2K     \u001b[90m━━━━━━━━━━━━━━━━━━━━━━━━━━━━━━━━━━━━━━━━\u001b[0m \u001b[32m15.7/15.7 MB\u001b[0m \u001b[31m65.7 MB/s\u001b[0m eta \u001b[36m0:00:00\u001b[0m\n",
            "\u001b[?25hRequirement already satisfied: transformers<5.0.0,>=4.34.0 in /usr/local/lib/python3.10/dist-packages (from sentence-transformers) (4.41.2)\n",
            "Requirement already satisfied: torch>=1.11.0 in /usr/local/lib/python3.10/dist-packages (from sentence-transformers) (2.3.0+cu121)\n",
            "Requirement already satisfied: numpy in /usr/local/lib/python3.10/dist-packages (from sentence-transformers) (1.25.2)\n",
            "Requirement already satisfied: scikit-learn in /usr/local/lib/python3.10/dist-packages (from sentence-transformers) (1.2.2)\n",
            "Requirement already satisfied: scipy in /usr/local/lib/python3.10/dist-packages (from sentence-transformers) (1.11.4)\n",
            "Requirement already satisfied: huggingface-hub>=0.15.1 in /usr/local/lib/python3.10/dist-packages (from sentence-transformers) (0.23.4)\n",
            "Requirement already satisfied: Pillow in /usr/local/lib/python3.10/dist-packages (from sentence-transformers) (9.4.0)\n",
            "Requirement already satisfied: altair<6,>=4.0 in /usr/local/lib/python3.10/dist-packages (from streamlit) (4.2.2)\n",
            "Requirement already satisfied: blinker<2,>=1.0.0 in /usr/lib/python3/dist-packages (from streamlit) (1.4)\n",
            "Requirement already satisfied: cachetools<6,>=4.0 in /usr/local/lib/python3.10/dist-packages (from streamlit) (5.3.3)\n",
            "Requirement already satisfied: click<9,>=7.0 in /usr/local/lib/python3.10/dist-packages (from streamlit) (8.1.7)\n",
            "Requirement already satisfied: packaging<25,>=20 in /usr/local/lib/python3.10/dist-packages (from streamlit) (24.1)\n",
            "Requirement already satisfied: pandas<3,>=1.3.0 in /usr/local/lib/python3.10/dist-packages (from streamlit) (2.0.3)\n",
            "Requirement already satisfied: protobuf<6,>=3.20 in /usr/local/lib/python3.10/dist-packages (from streamlit) (3.20.3)\n",
            "Requirement already satisfied: pyarrow>=7.0 in /usr/local/lib/python3.10/dist-packages (from streamlit) (14.0.2)\n",
            "Requirement already satisfied: rich<14,>=10.14.0 in /usr/local/lib/python3.10/dist-packages (from streamlit) (13.7.1)\n",
            "Requirement already satisfied: tenacity<9,>=8.1.0 in /usr/local/lib/python3.10/dist-packages (from streamlit) (8.4.2)\n",
            "Requirement already satisfied: toml<2,>=0.10.1 in /usr/local/lib/python3.10/dist-packages (from streamlit) (0.10.2)\n",
            "Requirement already satisfied: typing-extensions<5,>=4.3.0 in /usr/local/lib/python3.10/dist-packages (from streamlit) (4.12.2)\n",
            "Collecting gitpython!=3.1.19,<4,>=3.0.7 (from streamlit)\n",
            "  Downloading GitPython-3.1.43-py3-none-any.whl (207 kB)\n",
            "\u001b[2K     \u001b[90m━━━━━━━━━━━━━━━━━━━━━━━━━━━━━━━━━━━━━━━━\u001b[0m \u001b[32m207.3/207.3 kB\u001b[0m \u001b[31m22.0 MB/s\u001b[0m eta \u001b[36m0:00:00\u001b[0m\n",
            "\u001b[?25hCollecting pydeck<1,>=0.8.0b4 (from streamlit)\n",
            "  Downloading pydeck-0.9.1-py2.py3-none-any.whl (6.9 MB)\n",
            "\u001b[2K     \u001b[90m━━━━━━━━━━━━━━━━━━━━━━━━━━━━━━━━━━━━━━━━\u001b[0m \u001b[32m6.9/6.9 MB\u001b[0m \u001b[31m87.8 MB/s\u001b[0m eta \u001b[36m0:00:00\u001b[0m\n",
            "\u001b[?25hRequirement already satisfied: tornado<7,>=6.0.3 in /usr/local/lib/python3.10/dist-packages (from streamlit) (6.3.3)\n",
            "Collecting watchdog<5,>=2.1.5 (from streamlit)\n",
            "  Downloading watchdog-4.0.1-py3-none-manylinux2014_x86_64.whl (83 kB)\n",
            "\u001b[2K     \u001b[90m━━━━━━━━━━━━━━━━━━━━━━━━━━━━━━━━━━━━━━━━\u001b[0m \u001b[32m83.0/83.0 kB\u001b[0m \u001b[31m9.3 MB/s\u001b[0m eta \u001b[36m0:00:00\u001b[0m\n",
            "\u001b[?25hRequirement already satisfied: entrypoints in /usr/local/lib/python3.10/dist-packages (from altair<6,>=4.0->streamlit) (0.4)\n",
            "Requirement already satisfied: jinja2 in /usr/local/lib/python3.10/dist-packages (from altair<6,>=4.0->streamlit) (3.1.4)\n",
            "Requirement already satisfied: jsonschema>=3.0 in /usr/local/lib/python3.10/dist-packages (from altair<6,>=4.0->streamlit) (4.19.2)\n",
            "Requirement already satisfied: toolz in /usr/local/lib/python3.10/dist-packages (from altair<6,>=4.0->streamlit) (0.12.1)\n",
            "Collecting gitdb<5,>=4.0.1 (from gitpython!=3.1.19,<4,>=3.0.7->streamlit)\n",
            "  Downloading gitdb-4.0.11-py3-none-any.whl (62 kB)\n",
            "\u001b[2K     \u001b[90m━━━━━━━━━━━━━━━━━━━━━━━━━━━━━━━━━━━━━━━━\u001b[0m \u001b[32m62.7/62.7 kB\u001b[0m \u001b[31m7.5 MB/s\u001b[0m eta \u001b[36m0:00:00\u001b[0m\n",
            "\u001b[?25hRequirement already satisfied: filelock in /usr/local/lib/python3.10/dist-packages (from huggingface-hub>=0.15.1->sentence-transformers) (3.15.4)\n",
            "Requirement already satisfied: fsspec>=2023.5.0 in /usr/local/lib/python3.10/dist-packages (from huggingface-hub>=0.15.1->sentence-transformers) (2023.6.0)\n",
            "Requirement already satisfied: pyyaml>=5.1 in /usr/local/lib/python3.10/dist-packages (from huggingface-hub>=0.15.1->sentence-transformers) (6.0.1)\n",
            "Requirement already satisfied: python-dateutil>=2.8.2 in /usr/local/lib/python3.10/dist-packages (from pandas<3,>=1.3.0->streamlit) (2.8.2)\n",
            "Requirement already satisfied: pytz>=2020.1 in /usr/local/lib/python3.10/dist-packages (from pandas<3,>=1.3.0->streamlit) (2023.4)\n",
            "Requirement already satisfied: tzdata>=2022.1 in /usr/local/lib/python3.10/dist-packages (from pandas<3,>=1.3.0->streamlit) (2024.1)\n",
            "Requirement already satisfied: charset-normalizer<4,>=2 in /usr/local/lib/python3.10/dist-packages (from requests>=2.20->openai==0.28) (3.3.2)\n",
            "Requirement already satisfied: idna<4,>=2.5 in /usr/local/lib/python3.10/dist-packages (from requests>=2.20->openai==0.28) (3.7)\n",
            "Requirement already satisfied: urllib3<3,>=1.21.1 in /usr/local/lib/python3.10/dist-packages (from requests>=2.20->openai==0.28) (2.0.7)\n",
            "Requirement already satisfied: certifi>=2017.4.17 in /usr/local/lib/python3.10/dist-packages (from requests>=2.20->openai==0.28) (2024.6.2)\n",
            "Requirement already satisfied: markdown-it-py>=2.2.0 in /usr/local/lib/python3.10/dist-packages (from rich<14,>=10.14.0->streamlit) (3.0.0)\n",
            "Requirement already satisfied: pygments<3.0.0,>=2.13.0 in /usr/local/lib/python3.10/dist-packages (from rich<14,>=10.14.0->streamlit) (2.16.1)\n",
            "Requirement already satisfied: sympy in /usr/local/lib/python3.10/dist-packages (from torch>=1.11.0->sentence-transformers) (1.12.1)\n",
            "Requirement already satisfied: networkx in /usr/local/lib/python3.10/dist-packages (from torch>=1.11.0->sentence-transformers) (3.3)\n",
            "Collecting nvidia-cuda-nvrtc-cu12==12.1.105 (from torch>=1.11.0->sentence-transformers)\n",
            "  Using cached nvidia_cuda_nvrtc_cu12-12.1.105-py3-none-manylinux1_x86_64.whl (23.7 MB)\n",
            "Collecting nvidia-cuda-runtime-cu12==12.1.105 (from torch>=1.11.0->sentence-transformers)\n",
            "  Using cached nvidia_cuda_runtime_cu12-12.1.105-py3-none-manylinux1_x86_64.whl (823 kB)\n",
            "Collecting nvidia-cuda-cupti-cu12==12.1.105 (from torch>=1.11.0->sentence-transformers)\n",
            "  Using cached nvidia_cuda_cupti_cu12-12.1.105-py3-none-manylinux1_x86_64.whl (14.1 MB)\n",
            "Collecting nvidia-cudnn-cu12==8.9.2.26 (from torch>=1.11.0->sentence-transformers)\n",
            "  Using cached nvidia_cudnn_cu12-8.9.2.26-py3-none-manylinux1_x86_64.whl (731.7 MB)\n",
            "Collecting nvidia-cublas-cu12==12.1.3.1 (from torch>=1.11.0->sentence-transformers)\n",
            "  Using cached nvidia_cublas_cu12-12.1.3.1-py3-none-manylinux1_x86_64.whl (410.6 MB)\n",
            "Collecting nvidia-cufft-cu12==11.0.2.54 (from torch>=1.11.0->sentence-transformers)\n",
            "  Using cached nvidia_cufft_cu12-11.0.2.54-py3-none-manylinux1_x86_64.whl (121.6 MB)\n",
            "Collecting nvidia-curand-cu12==10.3.2.106 (from torch>=1.11.0->sentence-transformers)\n",
            "  Using cached nvidia_curand_cu12-10.3.2.106-py3-none-manylinux1_x86_64.whl (56.5 MB)\n",
            "Collecting nvidia-cusolver-cu12==11.4.5.107 (from torch>=1.11.0->sentence-transformers)\n",
            "  Using cached nvidia_cusolver_cu12-11.4.5.107-py3-none-manylinux1_x86_64.whl (124.2 MB)\n",
            "Collecting nvidia-cusparse-cu12==12.1.0.106 (from torch>=1.11.0->sentence-transformers)\n",
            "  Using cached nvidia_cusparse_cu12-12.1.0.106-py3-none-manylinux1_x86_64.whl (196.0 MB)\n",
            "Collecting nvidia-nccl-cu12==2.20.5 (from torch>=1.11.0->sentence-transformers)\n",
            "  Using cached nvidia_nccl_cu12-2.20.5-py3-none-manylinux2014_x86_64.whl (176.2 MB)\n",
            "Collecting nvidia-nvtx-cu12==12.1.105 (from torch>=1.11.0->sentence-transformers)\n",
            "  Using cached nvidia_nvtx_cu12-12.1.105-py3-none-manylinux1_x86_64.whl (99 kB)\n",
            "Requirement already satisfied: triton==2.3.0 in /usr/local/lib/python3.10/dist-packages (from torch>=1.11.0->sentence-transformers) (2.3.0)\n",
            "Collecting nvidia-nvjitlink-cu12 (from nvidia-cusolver-cu12==11.4.5.107->torch>=1.11.0->sentence-transformers)\n",
            "  Downloading nvidia_nvjitlink_cu12-12.5.82-py3-none-manylinux2014_x86_64.whl (21.3 MB)\n",
            "\u001b[2K     \u001b[90m━━━━━━━━━━━━━━━━━━━━━━━━━━━━━━━━━━━━━━━━\u001b[0m \u001b[32m21.3/21.3 MB\u001b[0m \u001b[31m57.8 MB/s\u001b[0m eta \u001b[36m0:00:00\u001b[0m\n",
            "\u001b[?25hRequirement already satisfied: regex!=2019.12.17 in /usr/local/lib/python3.10/dist-packages (from transformers<5.0.0,>=4.34.0->sentence-transformers) (2024.5.15)\n",
            "Requirement already satisfied: tokenizers<0.20,>=0.19 in /usr/local/lib/python3.10/dist-packages (from transformers<5.0.0,>=4.34.0->sentence-transformers) (0.19.1)\n",
            "Requirement already satisfied: safetensors>=0.4.1 in /usr/local/lib/python3.10/dist-packages (from transformers<5.0.0,>=4.34.0->sentence-transformers) (0.4.3)\n",
            "Requirement already satisfied: aiosignal>=1.1.2 in /usr/local/lib/python3.10/dist-packages (from aiohttp->openai==0.28) (1.3.1)\n",
            "Requirement already satisfied: attrs>=17.3.0 in /usr/local/lib/python3.10/dist-packages (from aiohttp->openai==0.28) (23.2.0)\n",
            "Requirement already satisfied: frozenlist>=1.1.1 in /usr/local/lib/python3.10/dist-packages (from aiohttp->openai==0.28) (1.4.1)\n",
            "Requirement already satisfied: multidict<7.0,>=4.5 in /usr/local/lib/python3.10/dist-packages (from aiohttp->openai==0.28) (6.0.5)\n",
            "Requirement already satisfied: yarl<2.0,>=1.0 in /usr/local/lib/python3.10/dist-packages (from aiohttp->openai==0.28) (1.9.4)\n",
            "Requirement already satisfied: async-timeout<5.0,>=4.0 in /usr/local/lib/python3.10/dist-packages (from aiohttp->openai==0.28) (4.0.3)\n",
            "Requirement already satisfied: joblib>=1.1.1 in /usr/local/lib/python3.10/dist-packages (from scikit-learn->sentence-transformers) (1.4.2)\n",
            "Requirement already satisfied: threadpoolctl>=2.0.0 in /usr/local/lib/python3.10/dist-packages (from scikit-learn->sentence-transformers) (3.5.0)\n",
            "Collecting smmap<6,>=3.0.1 (from gitdb<5,>=4.0.1->gitpython!=3.1.19,<4,>=3.0.7->streamlit)\n",
            "  Downloading smmap-5.0.1-py3-none-any.whl (24 kB)\n",
            "Requirement already satisfied: MarkupSafe>=2.0 in /usr/local/lib/python3.10/dist-packages (from jinja2->altair<6,>=4.0->streamlit) (2.1.5)\n",
            "Requirement already satisfied: jsonschema-specifications>=2023.03.6 in /usr/local/lib/python3.10/dist-packages (from jsonschema>=3.0->altair<6,>=4.0->streamlit) (2023.12.1)\n",
            "Requirement already satisfied: referencing>=0.28.4 in /usr/local/lib/python3.10/dist-packages (from jsonschema>=3.0->altair<6,>=4.0->streamlit) (0.35.1)\n",
            "Requirement already satisfied: rpds-py>=0.7.1 in /usr/local/lib/python3.10/dist-packages (from jsonschema>=3.0->altair<6,>=4.0->streamlit) (0.18.1)\n",
            "Requirement already satisfied: mdurl~=0.1 in /usr/local/lib/python3.10/dist-packages (from markdown-it-py>=2.2.0->rich<14,>=10.14.0->streamlit) (0.1.2)\n",
            "Requirement already satisfied: six>=1.5 in /usr/local/lib/python3.10/dist-packages (from python-dateutil>=2.8.2->pandas<3,>=1.3.0->streamlit) (1.16.0)\n",
            "Requirement already satisfied: mpmath<1.4.0,>=1.1.0 in /usr/local/lib/python3.10/dist-packages (from sympy->torch>=1.11.0->sentence-transformers) (1.3.0)\n",
            "Installing collected packages: watchdog, smmap, PyMuPDFb, nvidia-nvtx-cu12, nvidia-nvjitlink-cu12, nvidia-nccl-cu12, nvidia-curand-cu12, nvidia-cufft-cu12, nvidia-cuda-runtime-cu12, nvidia-cuda-nvrtc-cu12, nvidia-cuda-cupti-cu12, nvidia-cublas-cu12, dnspython, pymupdf, pymongo, pydeck, nvidia-cusparse-cu12, nvidia-cudnn-cu12, gitdb, openai, nvidia-cusolver-cu12, gitpython, streamlit, sentence-transformers\n",
            "Successfully installed PyMuPDFb-1.24.6 dnspython-2.6.1 gitdb-4.0.11 gitpython-3.1.43 nvidia-cublas-cu12-12.1.3.1 nvidia-cuda-cupti-cu12-12.1.105 nvidia-cuda-nvrtc-cu12-12.1.105 nvidia-cuda-runtime-cu12-12.1.105 nvidia-cudnn-cu12-8.9.2.26 nvidia-cufft-cu12-11.0.2.54 nvidia-curand-cu12-10.3.2.106 nvidia-cusolver-cu12-11.4.5.107 nvidia-cusparse-cu12-12.1.0.106 nvidia-nccl-cu12-2.20.5 nvidia-nvjitlink-cu12-12.5.82 nvidia-nvtx-cu12-12.1.105 openai-0.28.0 pydeck-0.9.1 pymongo-4.8.0 pymupdf-1.24.7 sentence-transformers-3.0.1 smmap-5.0.1 streamlit-1.36.0 watchdog-4.0.1\n",
            "\u001b[K\u001b[?25h\u001b[37;40mnpm\u001b[0m \u001b[0m\u001b[30;43mWARN\u001b[0m \u001b[0m\u001b[35msaveError\u001b[0m ENOENT: no such file or directory, open '/content/package.json'\n",
            "\u001b[0m\u001b[37;40mnpm\u001b[0m \u001b[0m\u001b[34;40mnotice\u001b[0m\u001b[35m\u001b[0m created a lockfile as package-lock.json. You should commit this file.\n",
            "\u001b[0m\u001b[37;40mnpm\u001b[0m \u001b[0m\u001b[30;43mWARN\u001b[0m \u001b[0m\u001b[35menoent\u001b[0m ENOENT: no such file or directory, open '/content/package.json'\n",
            "\u001b[0m\u001b[37;40mnpm\u001b[0m \u001b[0m\u001b[30;43mWARN\u001b[0m\u001b[35m\u001b[0m content No description\n",
            "\u001b[0m\u001b[37;40mnpm\u001b[0m \u001b[0m\u001b[30;43mWARN\u001b[0m\u001b[35m\u001b[0m content No repository field.\n",
            "\u001b[0m\u001b[37;40mnpm\u001b[0m \u001b[0m\u001b[30;43mWARN\u001b[0m\u001b[35m\u001b[0m content No README data\n",
            "\u001b[0m\u001b[37;40mnpm\u001b[0m \u001b[0m\u001b[30;43mWARN\u001b[0m\u001b[35m\u001b[0m content No license field.\n",
            "\u001b[0m\n",
            "+ localtunnel@2.0.2\n",
            "added 22 packages from 22 contributors and audited 22 packages in 1.911s\n",
            "\n",
            "3 packages are looking for funding\n",
            "  run `npm fund` for details\n",
            "\n",
            "found 1 \u001b[93mmoderate\u001b[0m severity vulnerability\n",
            "  run `npm audit fix` to fix them, or `npm audit` for details\n",
            "\u001b[K\u001b[?25h"
          ]
        }
      ],
      "source": [
        "!pip3 install -U pymongo pymupdf sentence-transformers openai==0.28 streamlit\n",
        "!npm install localtunnel"
      ]
    },
    {
      "cell_type": "code",
      "execution_count": 2,
      "metadata": {
        "id": "ehsfZKg0joNB",
        "colab": {
          "base_uri": "https://localhost:8080/"
        },
        "outputId": "b3bf0261-df7a-4452-fae3-ca8264eb29dc"
      },
      "outputs": [
        {
          "output_type": "stream",
          "name": "stdout",
          "text": [
            "34.19.20.122\n"
          ]
        }
      ],
      "source": [
        "!wget -q -O - ipv4.icanhazip.com"
      ]
    },
    {
      "cell_type": "code",
      "source": [
        "a = \"ssk-proj-7459TLe3H6sO3WkkplvxT3BlbkFJoAwogMj8ZNhLbFcesajO\"\n",
        "if a.startswith(\"sk-\"):\n",
        "  print(\"Yes\")\n",
        "else:\n",
        "  print(\"No\")"
      ],
      "metadata": {
        "colab": {
          "base_uri": "https://localhost:8080/"
        },
        "id": "yz7f6t389ERH",
        "outputId": "17fa2b0c-c1c8-4d7c-b1a6-1118f2b8b52d"
      },
      "execution_count": 47,
      "outputs": [
        {
          "output_type": "stream",
          "name": "stdout",
          "text": [
            "No\n"
          ]
        }
      ]
    },
    {
      "cell_type": "code",
      "source": [
        "import os\n",
        "import getpass\n",
        "import openai"
      ],
      "metadata": {
        "id": "XEp2mNDl-c7q"
      },
      "execution_count": null,
      "outputs": []
    },
    {
      "cell_type": "code",
      "source": [
        "os.environ[\"OPENAI_API_KEY\"] = getpass.getpass(\"Enter your OpenAI API Key: \")\n",
        "openai.api_key = os.getenv(\"OPENAI_API_KEY\")\n",
        "assert (openai.api_key is not None), \"OpenAI API key not found.\"\n",
        "assert ((openai.api_key).startswith(\"sk-\")), \"OpenAI API key not supplied.\"\n",
        "print(\" openai.api_key: \", openai.api_key)"
      ],
      "metadata": {
        "id": "7yYlQX2TOViQ",
        "outputId": "167c854b-963c-4bf6-890a-1c534b6d5789",
        "colab": {
          "base_uri": "https://localhost:8080/"
        }
      },
      "execution_count": 59,
      "outputs": [
        {
          "output_type": "stream",
          "name": "stdout",
          "text": [
            "Enter your OpenAI API Key: ··········\n",
            " openai.api_key:  sk-proj-7459TLe3H6sO3WkkplvxT3BlbkFJoAwogMj8ZNhLbFcesajO\n"
          ]
        }
      ]
    },
    {
      "cell_type": "code",
      "source": [
        "# Test the OpenAI key by sending a prompt and retrieving a response which is correct\n",
        "response = openai.ChatCompletion.create(\n",
        "    model=\"gpt-3.5-turbo\",\n",
        "    messages=[{\"role\": \"user\", \"content\": \"What is Chess?\"}]\n",
        ")\n",
        "print(response.choices[0][\"message\"][\"content\"])"
      ],
      "metadata": {
        "colab": {
          "base_uri": "https://localhost:8080/"
        },
        "id": "wNlY5g8sqlyC",
        "outputId": "a27ea0c2-7c3f-4ffc-d8bd-ab6469a78843"
      },
      "execution_count": 60,
      "outputs": [
        {
          "output_type": "stream",
          "name": "stdout",
          "text": [
            "Chess is a classic two-player strategy board game that involves moving pieces on a rectangular board with the goal of checkmating the opponent's king. The game is played on an 8x8 board with alternating dark and light squares, and each player starts with 16 pieces: one king, one queen, two rooks, two knights, two bishops, and eight pawns. Players take turns moving their pieces to capture their opponent's pieces and control the board. The game requires strategic thinking, planning, and foresight to outmaneuver the opponent and ultimately checkmate their king to win the game.\n"
          ]
        }
      ]
    },
    {
      "cell_type": "code",
      "source": [
        "mongodb_username = input('Enter the MongoDB username: ')\n",
        "assert mongodb_username is not None, \"mongodb_username not found.\"\n",
        "assert len(mongodb_username) > 0, \"mongodb_username not found.\""
      ],
      "metadata": {
        "colab": {
          "base_uri": "https://localhost:8080/"
        },
        "id": "TV67k-Gs5gV8",
        "outputId": "dc909ab6-42b7-4e2a-9764-77047157214b"
      },
      "execution_count": 66,
      "outputs": [
        {
          "name": "stdout",
          "output_type": "stream",
          "text": [
            "Enter the MongoDB username:  \n"
          ]
        }
      ]
    },
    {
      "cell_type": "code",
      "source": [
        "os.environ[\"MONGODB_USER_PASSWORD\"] = getpass.getpass(\"Enter your MongoDB user password: \")\n",
        "mongodb_user_password = os.getenv(\"MONGODB_USER_PASSWORD\")\n",
        "assert (mongodb_user_password is not None), \"MONGODB_USER_PASSWORD key not found.\""
      ],
      "metadata": {
        "colab": {
          "base_uri": "https://localhost:8080/"
        },
        "id": "XDcGrQeI_7O1",
        "outputId": "7e3a0d1b-a9db-455f-d3a6-46a8a6c0da99"
      },
      "execution_count": 68,
      "outputs": [
        {
          "output_type": "stream",
          "name": "stdout",
          "text": [
            "Enter your MongoDB user password: ··········\n",
            " mongodb_user_password:  sdf\n"
          ]
        }
      ]
    },
    {
      "cell_type": "code",
      "source": [
        "mongodb_cluster_hostname = input('Enter the MongoDB cluster hostname: ')\n",
        "assert mongodb_cluster_hostname is not None, \"mongodb_cluster_hostname not found.\"\n",
        "assert len(mongodb_cluster_hostname) > 0, \"mongodb_cluster_hostname not found.\""
      ],
      "metadata": {
        "colab": {
          "base_uri": "https://localhost:8080/"
        },
        "id": "EeLxw1onAbh4",
        "outputId": "6877fa05-6249-4ed4-b52c-d3ef97777edc"
      },
      "execution_count": 70,
      "outputs": [
        {
          "name": "stdout",
          "output_type": "stream",
          "text": [
            "Enter the MongoDB cluster hostname:  \n"
          ]
        }
      ]
    },
    {
      "cell_type": "code",
      "source": [
        "mongodb_cluster_database_name = input('Enter the MongoDB cluster database name: ')\n",
        "assert mongodb_cluster_database_name is not None, \"mongodb_cluster_database_name not found.\"\n",
        "assert len(mongodb_cluster_database_name) > 0, \"mongodb_cluster_database_name not found.\""
      ],
      "metadata": {
        "colab": {
          "base_uri": "https://localhost:8080/"
        },
        "id": "83mrBXSRA6ev",
        "outputId": "a80a8d49-ddcb-4487-a06e-7cf0cbd559e2"
      },
      "execution_count": 72,
      "outputs": [
        {
          "name": "stdout",
          "output_type": "stream",
          "text": [
            "Enter the MongoDB cluster database name:  \n"
          ]
        }
      ]
    },
    {
      "cell_type": "code",
      "source": [
        "mongodb_database_games_collection_name = input('Enter the MongoDB database games collection name: ')\n",
        "assert mongodb_database_games_collection_name is not None, \"mongodb_database_games_collection_name not found.\"\n",
        "assert len(mongodb_database_games_collection_name) > 0, \"mongodb_database_games_collection_name not found.\""
      ],
      "metadata": {
        "colab": {
          "base_uri": "https://localhost:8080/"
        },
        "id": "uh6_Voz9BFt_",
        "outputId": "b8abbd76-9d22-4685-8ddd-102bdcca4071"
      },
      "execution_count": 74,
      "outputs": [
        {
          "name": "stdout",
          "output_type": "stream",
          "text": [
            "Enter the MongoDB database games collection name:  \n"
          ]
        }
      ]
    },
    {
      "cell_type": "code",
      "source": [
        "mongodb_database_chat_history_collection_name = input('Enter the MongoDB database chat history collection name: ')\n",
        "assert mongodb_database_chat_history_collection_name is not None, \"mongodb_database_chat_history_collection_name not found.\"\n",
        "assert len(mongodb_database_chat_history_collection_name) > 0, \"mongodb_database_chat_history_collection_name not found.\""
      ],
      "metadata": {
        "colab": {
          "base_uri": "https://localhost:8080/"
        },
        "id": "UrKiAPs3BTr8",
        "outputId": "0fda7516-65d3-46ee-ffee-02a53cedd4f4"
      },
      "execution_count": 76,
      "outputs": [
        {
          "name": "stdout",
          "output_type": "stream",
          "text": [
            "Enter the MongoDB database chat history collection name:  \n"
          ]
        }
      ]
    },
    {
      "cell_type": "code",
      "source": [
        "%%writefile constants.py\n",
        "\n",
        "#OPENAI_API_KEY = \"<ENTER_YOUR_OPENAI_API_KEY>\"\n",
        "\n",
        "MONGODB_USERNAME = \"<ENTER_YOUR_USERNAME>\"\n",
        "\n",
        "MONGODB_USER_PASSWORD = \"<ENTER_YOUR_USER_PASSWORD>\"\n",
        "\n",
        "MONGODB_CLUSTER_HOSTNAME = \"<ENTER_YOUR_MONGODB_CLUSTER_HOSTNAME>\"\n",
        "\n",
        "MONGODB_CLUSTER_DATABASE_NAME = \"<ENTER_YOUR_MONGODB_CLUSTER_DATABASE_NAME>\"\n",
        "\n",
        "MONGODB_DATABASE_GAMES_COLLECTION_NAME = \"<ENTER_YOUR_MONGODB_DATABASE_GAMES_COLLECTION_NAME>\"\n",
        "\n",
        "MONGODB_DATABASE_CHAT_HISTORY_COLLECTION_NAME = \"<ENTER_YOUR_MONGODB_DATABASE_CHAT_HISTORY_COLLECTION_NAME>\""
      ],
      "metadata": {
        "id": "LVb3REcfrvY7"
      },
      "execution_count": null,
      "outputs": []
    },
    {
      "cell_type": "code",
      "source": [
        "%%writefile util.py\n",
        "\n",
        "#from constants import *\n",
        "from pymongo.mongo_client import MongoClient\n",
        "from pymongo.database import Database\n",
        "from pymongo.collection import Collection\n",
        "import tempfile\n",
        "import pymupdf\n",
        "from sentence_transformers import SentenceTransformer\n",
        "import openai\n",
        "from streamlit.runtime.uploaded_file_manager import UploadedFile\n",
        "from numpy import ndarray\n",
        "import certifi\n",
        "\n",
        "\n",
        "\n",
        "SENTENCE_TRANSFORMER_PARAPHRASE_MINI_LM_L6_v2 = \"paraphrase-MiniLM-L6-v2\"\n",
        "SENTENCE_TRANSFORMER_ALL_MINI_LM_L6_v2 = \"all-MiniLM-L6-v2\"\n",
        "\n",
        "OPENAI_MODEL_GPT_3_5_TURBO = \"gpt-3.5-turbo\"\n",
        "MAX_TOKENS = 150\n",
        "DOCUMENT_TEXT = \"text\"\n",
        "DOCUMENT_VECTOR = \"vector\"\n",
        "\n",
        "\n",
        "def init_config_parameters():\n",
        "    \"\"\"\n",
        "    Verify and initialize the config parameters\n",
        "\n",
        "    Parameters:\n",
        "    None\n",
        "\n",
        "    Returns:\n",
        "    None\n",
        "    \"\"\"\n",
        "\n",
        "    assert MONGODB_USERNAME is not None and len(MONGODB_USERNAME) > 0, \"MONGODB_USERNAME not set.\"\n",
        "    assert MONGODB_USER_PASSWORD is not None and len(MONGODB_USER_PASSWORD) > 0, \"MONGODB_USER_PASSWORD not set.\"\n",
        "    assert MONGODB_CLUSTER_HOSTNAME is not None and len(MONGODB_CLUSTER_HOSTNAME) > 0, \"MONGODB_CLUSTER_HOSTNAME not set.\"\n",
        "    assert MONGODB_CLUSTER_DATABASE_NAME is not None and len(MONGODB_CLUSTER_DATABASE_NAME) > 0, \"MONGODB_CLUSTER_DATABASE_NAME not set.\"\n",
        "    assert MONGODB_DATABASE_GAMES_COLLECTION_NAME is not None and len(MONGODB_DATABASE_GAMES_COLLECTION_NAME) > 0, \"MONGODB_DATABASE_GAMES_COLLECTION_NAME not set.\"\n",
        "    assert MONGODB_DATABASE_CHAT_HISTORY_COLLECTION_NAME is not None and len(MONGODB_DATABASE_CHAT_HISTORY_COLLECTION_NAME) > 0, \"MONGODB_DATABASE_CHAT_HISTORY_COLLECTION_NAME not set.\"\n",
        "\n",
        "    # Initialize OpenAI API (Replace with your API key)\n",
        "    if openai.api_key is None:\n",
        "        openai.api_key = OPENAI_API_KEY\n",
        "    assert openai.api_key is not None, \"OpenAI API key not found.\"\n",
        "\n",
        "\n",
        "def get_mongodb_cluster_connection_uri(mongodb_username: str, mongodb_user_password: str, mongodb_cluster_hostname: str) -> str:\n",
        "    \"\"\"\n",
        "    Return the MongoDB cluster connection URI\n",
        "\n",
        "    Parameters:\n",
        "    mongodb_username (str): MongoDB username\n",
        "    mongodb_user_password (str): Password of the MongoDB user\n",
        "    mongodb_cluster_hostname (str): MongoDB cluster hostname\n",
        "\n",
        "    Returns:\n",
        "    str: MongoDB cluster connection uri\n",
        "    \"\"\"\n",
        "\n",
        "    mongodb_cluster_hostname_str = mongodb_cluster_hostname.split(\".\")\n",
        "    mongodb_clustername = mongodb_cluster_hostname_str[0]\n",
        "\n",
        "    uri = (\"mongodb+srv://\" +\n",
        "           mongodb_username +\n",
        "           \":\" +\n",
        "           mongodb_user_password +\n",
        "           \"@\" +\n",
        "           mongodb_cluster_hostname +\n",
        "           \"/?retryWrites=true&w=majority&appName=\" +\n",
        "           mongodb_clustername)\n",
        "    return uri\n",
        "\n",
        "\n",
        "def get_mongodb_cluster_client(uri: str) -> MongoClient:\n",
        "    \"\"\"\n",
        "    Return the MongoDB cluster connection\n",
        "\n",
        "    Parameters:\n",
        "    uri (str): MongoDB connection uri\n",
        "\n",
        "    Returns:\n",
        "    pymongo.mongo_client.MongoClient: MongoDB cluster connection`\n",
        "    \"\"\"\n",
        "\n",
        "    mongodb_client = None\n",
        "    if uri:\n",
        "        try:\n",
        "            # Create a new client and connect to the server\n",
        "            mongodb_client = MongoClient(uri, tlsCAFile=certifi.where())\n",
        "\n",
        "            # Send a ping to confirm a successful connection\n",
        "            mongodb_client.admin.command('ping')\n",
        "            print(\"\\n Pinged the MongoDB cluster deployment. Successfully connected to MongoDB cluster!\")\n",
        "        except Exception as e:\n",
        "            raise Exception(\n",
        "                'Failed to connect to MongoDB database.  Please supply valid MongoDB username, MongoDB user password, MongoDB cluster hostname parameters') from e\n",
        "\n",
        "    return mongodb_client\n",
        "\n",
        "\n",
        "def get_mongodb_database(mongodb_client: MongoClient, database_name: str) -> Database:\n",
        "    \"\"\"\n",
        "    Connects to MongoDB cluster and returns the games database\n",
        "\n",
        "    Parameters:\n",
        "    mongodb_client (MongoClient): MongoDB connection uri\n",
        "    database_name (str): Name of the game database\n",
        "\n",
        "    Returns:\n",
        "    pymongo.database.Database: Game database\n",
        "    \"\"\"\n",
        "\n",
        "    db = None\n",
        "    if mongodb_client and database_name:\n",
        "        db = mongodb_client[database_name]\n",
        "    return db\n",
        "\n",
        "\n",
        "def get_collection(db: Database, collection_name: str) -> Collection:\n",
        "    \"\"\"\n",
        "    Connects to MongoDB game database and returns the games collection\n",
        "\n",
        "    Parameters:\n",
        "    db (pymongo.database.Database): MongoDB game database\n",
        "    collection_name (str): Name of the game collection\n",
        "\n",
        "    Returns:\n",
        "    pymongo.collection.Collection: Game collection\n",
        "    \"\"\"\n",
        "\n",
        "    collection = None\n",
        "    if db is not None and collection_name:\n",
        "        collection = db[collection_name]\n",
        "    return collection\n",
        "\n",
        "\n",
        "def extract_text_from_pdf(pdf_path: str) -> str:\n",
        "    \"\"\"\n",
        "    Extracts the text out of the game pdf file\n",
        "\n",
        "    Parameters:\n",
        "    pdf_path (str): Path of the game pdf file\n",
        "\n",
        "    Returns:\n",
        "    str: Returns text out of the game pdf file\n",
        "    \"\"\"\n",
        "\n",
        "    text = \"\"\n",
        "    if pdf_path:\n",
        "        try:\n",
        "            doc = pymupdf.open(pdf_path)  # Open the PDF document\n",
        "            if doc:\n",
        "                for page_num in range(len(doc)):\n",
        "                    page = doc.load_page(page_num)  # Load a page\n",
        "                    text += page.get_text()  # Extract text from the page\n",
        "        except Exception as e:\n",
        "            print(f\"{e}\")\n",
        "            raise Exception('Error extracting text from PDF: {e}') from e\n",
        "    return text\n",
        "\n",
        "\n",
        "def get_sentence_transformer_model() -> SentenceTransformer:\n",
        "    \"\"\"\n",
        "    Returns SentenceTransformer model\n",
        "\n",
        "    This is a sentence-transformers model.  It maps sentences & paragraphs to a 384 dimensional dense vector space and can be used for tasks like clustering or semantic search.  The model returned has the following config parameters:\n",
        "\n",
        "        SentenceTransformer(\n",
        "        (0): Transformer({'max_seq_length': 128, 'do_lower_case': False}) with Transformer model: BertModel\n",
        "        (1): Pooling({'word_embedding_dimension': 384, 'pooling_mode_cls_token': False, 'pooling_mode_mean_tokens': True, 'pooling_mode_max_tokens': False, 'pooling_mode_mean_sqrt_len_tokens': False, 'pooling_mode_weightedmean_tokens': False, 'pooling_mode_lasttoken': False, 'include_prompt': True})\n",
        ")\n",
        "\n",
        "    Parameters:\n",
        "    None\n",
        "\n",
        "    Returns:\n",
        "    sentence_transformers.SentenceTransformer: Returns the SentenceTransformer model\n",
        "    \"\"\"\n",
        "\n",
        "    return SentenceTransformer(SENTENCE_TRANSFORMER_PARAPHRASE_MINI_LM_L6_v2)\n",
        "\n",
        "\n",
        "# Function to vectorize text\n",
        "def vectorize_text(text: str) -> ndarray:\n",
        "    \"\"\"\n",
        "    Converts the game text into vector and returns the numpy array of the vector\n",
        "\n",
        "    Parameters:\n",
        "    text (str): Text of the game\n",
        "\n",
        "    Returns:\n",
        "    numpy.ndarray: Vectorized game text\n",
        "    \"\"\"\n",
        "\n",
        "    embedding = None\n",
        "    if text:\n",
        "        try:\n",
        "            model = get_sentence_transformer_model()\n",
        "            if model:\n",
        "                embedding = model.encode(text)\n",
        "        except Exception as e:\n",
        "            print(f\"{e}\")\n",
        "    return embedding\n",
        "\n",
        "\n",
        "# Function to save vector to MongoDB\n",
        "def save_embedding_to_collection(embedding: ndarray, text: str, collection: Collection):\n",
        "    \"\"\"\n",
        "    Store game embedding to the game collection\n",
        "\n",
        "    Parameters:\n",
        "    embedding (ndarray): Vectorized numpy array of the game text\n",
        "    text (str): Text of the game\n",
        "    collection (pymongo.collection.Collection): game collection\n",
        "\n",
        "    Returns:\n",
        "    None\n",
        "    \"\"\"\n",
        "\n",
        "    if embedding is not None and text and collection is not None:\n",
        "        document = {\n",
        "            DOCUMENT_TEXT: text,\n",
        "            DOCUMENT_VECTOR: embedding.tolist()  # Convert numpy array to list\n",
        "        }\n",
        "\n",
        "        existing_document = collection.find_one(document)\n",
        "        if not existing_document:\n",
        "            collection.insert_one(document)\n",
        "            print(\"\\n Game saved into MongoDB collection as embedding!\")\n",
        "        else:\n",
        "            print(\"\\n This game exists in the MongoDB game collection as embedding!\")\n",
        "\n",
        "\n",
        "# Function to retrieve relevant documents from MongoDB\n",
        "def retrieve_relevant_docs(query: list, collection: Collection) -> list:\n",
        "    \"\"\"\n",
        "    Retrieve relevant document based on the user query\n",
        "\n",
        "    Parameters:\n",
        "    query (list): User query\n",
        "    collection (pymongo.collection.Collection): game collection\n",
        "\n",
        "    Returns:\n",
        "    list: document relevant to the user query\n",
        "    \"\"\"\n",
        "\n",
        "    if query and collection is not None:\n",
        "        model = get_sentence_transformer_model()\n",
        "        if model:\n",
        "            query_vector = model.encode(query).tolist()\n",
        "            docs = list(collection.find())\n",
        "            if docs and query_vector:\n",
        "                relevant_docs = sorted(docs, key=lambda doc: cosine_similarity(query_vector, doc[DOCUMENT_VECTOR]),\n",
        "                                       reverse=True)[:5]\n",
        "                return relevant_docs\n",
        "\n",
        "\n",
        "# Cosine similarity function\n",
        "def cosine_similarity(vector_1: list, vector_2: list) -> float:\n",
        "    \"\"\"\n",
        "    Returns cosine similarity value\n",
        "\n",
        "    Parameters:\n",
        "    vector_1 (list): User query\n",
        "    vector_2 (list): Game collection\n",
        "\n",
        "    Returns:\n",
        "    float: cosine similarity value\n",
        "    \"\"\"\n",
        "\n",
        "    if vector_1 and vector_2:\n",
        "        return sum(a * b for a, b in zip(vector_1, vector_2)) / (sum(a * a for a in vector_1) ** 0.5 * sum(b * b for b in vector_2) ** 0.5)\n",
        "\n",
        "\n",
        "# Function to generate chatbot response using OpenAI GPT\n",
        "def generate_response(query: str, relevant_docs: list) -> str:\n",
        "    \"\"\"\n",
        "    Returns next move response for the user query\n",
        "\n",
        "    Parameters:\n",
        "    query (str): User query\n",
        "    relevant_docs (list): The relevant game collection\n",
        "\n",
        "    Returns:\n",
        "    str: Next move response for the user query\n",
        "    \"\"\"\n",
        "\n",
        "    if query and relevant_docs:\n",
        "        augmented_query = query + \" \" + \" \".join([doc[DOCUMENT_TEXT] for doc in relevant_docs])\n",
        "        if augmented_query:\n",
        "            response = openai.ChatCompletion.create(\n",
        "                model=OPENAI_MODEL_GPT_3_5_TURBO,\n",
        "                messages=[\n",
        "                    {\"role\": \"system\", \"content\": \"You are a helpful assistant.\"},\n",
        "                    {\"role\": \"user\", \"content\": augmented_query}\n",
        "                ],\n",
        "                max_tokens=MAX_TOKENS\n",
        "            )\n",
        "            if response:\n",
        "                return response['choices'][0]['message']['content'].strip()\n",
        "\n",
        "\n",
        "\n",
        "# Function to save chat history to MongoDB\n",
        "def save_chat_history(user_query: str, nextmove_response: str, collection: Collection):\n",
        "    \"\"\"\n",
        "    Stores the chat history in the chat collection\n",
        "\n",
        "    Parameters:\n",
        "    user_query (str): User query\n",
        "    nextmove (str): The nextmove response\n",
        "    collection (pymongo.collection.Collection): The relevant game collection\n",
        "\n",
        "    Returns:\n",
        "    None\n",
        "    \"\"\"\n",
        "\n",
        "    if user_query and nextmove_response and collection is not None:\n",
        "        document = {\n",
        "            'user_query': user_query,\n",
        "            'nextmove_response': nextmove_response\n",
        "        }\n",
        "        collection.insert_one(document)\n",
        "\n",
        "\n",
        "def get_text_from_pdf(file: UploadedFile) -> str:\n",
        "    \"\"\"\n",
        "    Stores the chat history in the chat collection\n",
        "\n",
        "    Parameters:\n",
        "    file (streamlit.runtime.uploaded_file_manager.UploadedFile): The game pdf file\n",
        "\n",
        "    Returns:\n",
        "    str: Extracts text from the game pdf\n",
        "    \"\"\"\n",
        "\n",
        "    if file:\n",
        "        # Save the uploaded PDF to a temporary file\n",
        "        with tempfile.NamedTemporaryFile(delete=False) as tmp_file:\n",
        "            tmp_file.write(file.read())\n",
        "            tmp_pdf_path = tmp_file.name\n",
        "\n",
        "        # Extract text from PDF\n",
        "        return extract_text_from_pdf(tmp_pdf_path)\n",
        "    return None"
      ],
      "metadata": {
        "id": "ioo6svP3r-5T",
        "colab": {
          "base_uri": "https://localhost:8080/"
        },
        "outputId": "fbe1f0f8-21d7-4f3e-e7be-addeea021767"
      },
      "execution_count": 80,
      "outputs": [
        {
          "output_type": "stream",
          "name": "stdout",
          "text": [
            "Writing util.py\n"
          ]
        }
      ]
    },
    {
      "cell_type": "code",
      "execution_count": 78,
      "metadata": {
        "id": "lZkPA3Ixj4PD",
        "colab": {
          "base_uri": "https://localhost:8080/"
        },
        "outputId": "6ab52907-4e7c-4884-e4e1-3348a870a35d"
      },
      "outputs": [
        {
          "output_type": "stream",
          "name": "stdout",
          "text": [
            "Writing app.py\n"
          ]
        }
      ],
      "source": [
        "%%writefile app.py\n",
        "\n",
        "#from constants import *\n",
        "from util import *\n",
        "import streamlit as st\n",
        "\n",
        "\n",
        "\n",
        "def main():\n",
        "    init_config_parameters()\n",
        "\n",
        "    mongodb_uri = get_mongodb_cluster_connection_uri(MONGODB_USERNAME, MONGODB_USER_PASSWORD, MONGODB_CLUSTER_HOSTNAME)\n",
        "    assert mongodb_uri is not None, \"mongodb_uri not set.\"\n",
        "\n",
        "    mongodb_client = get_mongodb_cluster_client(mongodb_uri)\n",
        "    assert mongodb_client is not None, \"mongodb_client not set.\"\n",
        "\n",
        "    games_db = get_mongodb_database(mongodb_client, MONGODB_CLUSTER_DATABASE_NAME)\n",
        "    assert games_db is not None, \"games_db not set.\"\n",
        "\n",
        "    games_collection = get_collection(games_db, MONGODB_DATABASE_GAMES_COLLECTION_NAME)\n",
        "    assert games_collection is not None, \"games_collection not set.\"\n",
        "\n",
        "    chat_history_collection = get_collection(games_db, MONGODB_DATABASE_CHAT_HISTORY_COLLECTION_NAME)\n",
        "    assert chat_history_collection is not None, \"chat_history_collection not set.\"\n",
        "\n",
        "\n",
        "    # Streamlit interface\n",
        "    st.image('assets/nextmove_header.png')\n",
        "    st.title(\"NextMOVE: Chess training assistant\")\n",
        "\n",
        "    # Upload PDF\n",
        "    uploaded_file = st.file_uploader(\"Upload Chess games (pdf)\", type=\"pdf\")\n",
        "    if uploaded_file:\n",
        "        game_text = get_text_from_pdf(uploaded_file)\n",
        "        assert game_text is not None, \"game_text not set.\"\n",
        "        print(\"\\n Extracted game_text: \\n\", game_text)\n",
        "\n",
        "        # Vectorize text\n",
        "        game_embedding = vectorize_text(game_text)\n",
        "        assert game_embedding is not None, \"game_embedding not set.\"\n",
        "        print(\"\\n Vectorized game_embedding: \\n\", game_embedding)\n",
        "\n",
        "        # Save vector to MongoDB\n",
        "        save_embedding_to_collection(game_embedding, game_text, games_collection)\n",
        "\n",
        "        user_query = st.text_input(\"Enter your query:\")\n",
        "        assert user_query is not None, \"user_query not set.\"\n",
        "        print(\"\\n user_query: \", user_query)\n",
        "\n",
        "        # Retrieve relevant documents\n",
        "        relevant_docs = retrieve_relevant_docs(user_query, games_collection)\n",
        "        if relevant_docs:\n",
        "            # Generate response\n",
        "            nextmove_response = generate_response(user_query, relevant_docs)\n",
        "            assert nextmove_response is not None, \"nextmove_response not set.\"\n",
        "            print(\"\\n nextmove_response: \", nextmove_response)\n",
        "\n",
        "            # Display response\n",
        "            st.write(\"NextMOVE response:\")\n",
        "            st.write(nextmove_response)\n",
        "\n",
        "            # Save chat history to MongoDB\n",
        "            save_chat_history(user_query, nextmove_response, chat_history_collection)\n",
        "            print(\"\\n Chat saved into MongoDB collection as embedding!\")\n",
        "\n",
        "\n",
        "if __name__ == \"__main__\":\n",
        "    main()"
      ]
    },
    {
      "cell_type": "code",
      "execution_count": null,
      "metadata": {
        "id": "D3dABwfQkSHg",
        "colab": {
          "base_uri": "https://localhost:8080/"
        },
        "outputId": "202bf577-c8ee-403f-b39b-83c04566aa79"
      },
      "outputs": [
        {
          "output_type": "stream",
          "name": "stdout",
          "text": [
            "\n",
            "Collecting usage statistics. To deactivate, set browser.gatherUsageStats to false.\n",
            "\u001b[0m\n",
            "\u001b[?25l\u001b[0m\n",
            "\u001b[34m\u001b[1m  You can now view your Streamlit app in your browser.\u001b[0m\n",
            "\u001b[0m\n",
            "\u001b[34m  Local URL: \u001b[0m\u001b[1mhttp://localhost:8501\u001b[0m\n",
            "\u001b[34m  Network URL: \u001b[0m\u001b[1mhttp://172.28.0.12:8501\u001b[0m\n",
            "\u001b[34m  External URL: \u001b[0m\u001b[1mhttp://34.19.20.122:8501\u001b[0m\n",
            "\u001b[0m\n",
            "\u001b[K\u001b[?25hnpx: installed 22 in 2.062s\n",
            "your url is: https://sharp-dogs-tap.loca.lt\n",
            "2024-07-07 02:34:34.813829: E external/local_xla/xla/stream_executor/cuda/cuda_dnn.cc:9261] Unable to register cuDNN factory: Attempting to register factory for plugin cuDNN when one has already been registered\n",
            "2024-07-07 02:34:34.813903: E external/local_xla/xla/stream_executor/cuda/cuda_fft.cc:607] Unable to register cuFFT factory: Attempting to register factory for plugin cuFFT when one has already been registered\n",
            "2024-07-07 02:34:34.816128: E external/local_xla/xla/stream_executor/cuda/cuda_blas.cc:1515] Unable to register cuBLAS factory: Attempting to register factory for plugin cuBLAS when one has already been registered\n",
            "2024-07-07 02:34:36.357976: W tensorflow/compiler/tf2tensorrt/utils/py_utils.cc:38] TF-TRT Warning: Could not find TensorRT\n",
            "2024-07-07 02:34:38.906 Uncaught app exception\n",
            "Traceback (most recent call last):\n",
            "  File \"/usr/local/lib/python3.10/dist-packages/streamlit/runtime/scriptrunner/script_runner.py\", line 589, in _run_script\n",
            "    exec(code, module.__dict__)\n",
            "  File \"/content/app.py\", line 68, in <module>\n",
            "    main()\n",
            "  File \"/content/app.py\", line 9, in main\n",
            "    init_config_parameters()\n",
            "  File \"/content/util.py\", line 36, in init_config_parameters\n",
            "    assert MONGODB_USERNAME is not None and len(MONGODB_USERNAME) > 0, \"MONGODB_USERNAME not set.\"\n",
            "NameError: name 'MONGODB_USERNAME' is not defined\n",
            "2024-07-07 02:54:52.660 Uncaught app exception\n",
            "Traceback (most recent call last):\n",
            "  File \"/usr/local/lib/python3.10/dist-packages/streamlit/runtime/scriptrunner/script_runner.py\", line 589, in _run_script\n",
            "    exec(code, module.__dict__)\n",
            "  File \"/content/app.py\", line 68, in <module>\n",
            "    main()\n",
            "  File \"/content/app.py\", line 9, in main\n",
            "    init_config_parameters()\n",
            "  File \"/content/util.py\", line 36, in init_config_parameters\n",
            "    assert MONGODB_USERNAME is not None and len(MONGODB_USERNAME) > 0, \"MONGODB_USERNAME not set.\"\n",
            "NameError: name 'MONGODB_USERNAME' is not defined\n"
          ]
        }
      ],
      "source": [
        "!streamlit run app.py & npx localtunnel --port 8501"
      ]
    }
  ],
  "metadata": {
    "colab": {
      "provenance": []
    },
    "kernelspec": {
      "display_name": "Python 3",
      "name": "python3"
    },
    "language_info": {
      "name": "python"
    }
  },
  "nbformat": 4,
  "nbformat_minor": 0
}